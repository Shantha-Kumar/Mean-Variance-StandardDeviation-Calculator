{
 "cells": [
  {
   "cell_type": "markdown",
   "metadata": {},
   "source": [
    "Create a function named calculate() in mean_var_std.py that uses Numpy to output the mean, variance, standard deviation, max, min, and sum of the rows, columns, and elements in a 3 x 3 matrix."
   ]
  },
  {
   "cell_type": "markdown",
   "metadata": {},
   "source": [
    "The input of the function should be a list containing 9 digits. The function should convert the list into a 3 x 3 Numpy array, and then return a dictionary containing the mean, variance, standard deviation, max, min, and sum along both axes and for the flattened matrix."
   ]
  },
  {
   "cell_type": "code",
   "execution_count": 1,
   "metadata": {},
   "outputs": [],
   "source": [
    "import numpy as np\n"
   ]
  },
  {
   "cell_type": "markdown",
   "metadata": {},
   "source": [
    "If a list containing less than 9 elements is passed into the function, it should raise a ValueError exception with the message: \"List must contain nine numbers.\" The values in the returned dictionary should be lists and not Numpy arrays."
   ]
  },
  {
   "cell_type": "code",
   "execution_count": 2,
   "metadata": {},
   "outputs": [],
   "source": [
    "def calculate(list):\n",
    "    if len(list)<9:\n",
    "        raise ValueError (\"List must contain nine numbers.\")\n",
    "    arr=np.array(list).reshape(3,3)\n",
    "    a=np.mean(arr,axis=0)\n",
    "    b=np.mean(arr,axis=1)\n",
    "    c=np.mean(arr)\n",
    "    a=a.tolist()\n",
    "    b=b.tolist()\n",
    "    c=c.tolist()\n",
    "    mean=[a,b,c]\n",
    "    d=np.var(arr,axis=0)\n",
    "    e=np.var(arr,axis=1)\n",
    "    f=np.var(arr)\n",
    "    d=d.tolist()\n",
    "    e=e.tolist()\n",
    "    f=f.tolist()\n",
    "    va=[d,e,f]\n",
    "    g=np.std(arr,axis=0)\n",
    "    h=np.std(arr,axis=1)\n",
    "    i=np.std(arr)\n",
    "    g=g.tolist()\n",
    "    h=h.tolist()\n",
    "    i=i.tolist()\n",
    "    st=[g,h,i]\n",
    "    j=np.max(arr,axis=0)\n",
    "    k=np.max(arr,axis=1)\n",
    "    l=np.max(arr)\n",
    "    j=j.tolist()\n",
    "    k=k.tolist()\n",
    "    l=l.tolist()\n",
    "    ma=[j,k,l]\n",
    "    m=np.min(arr,axis=0)\n",
    "    n=np.min(arr,axis=1)\n",
    "    o=np.min(arr)\n",
    "    m=m.tolist()\n",
    "    n=n.tolist()\n",
    "    o=o.tolist()\n",
    "    mi=[m,n,o]\n",
    "    p=np.sum(arr,axis=0)\n",
    "    q=np.sum(arr,axis=1)\n",
    "    r=np.sum(arr)\n",
    "    p=p.tolist()\n",
    "    q=q.tolist()\n",
    "    r=r.tolist()\n",
    "    su=[p,q,r]\n",
    "    calculations={'mean':mean,\n",
    "            'variance':va,'standard deviation':st,'max':ma,'minimum':mi,'sum':su}\n",
    "    return calculations\n",
    "    \n",
    "        \n",
    "        \n",
    "\n",
    "\n",
    "\n"
   ]
  },
  {
   "cell_type": "code",
   "execution_count": 3,
   "metadata": {},
   "outputs": [
    {
     "name": "stdout",
     "output_type": "stream",
     "text": [
      "{'mean': [[4.666666666666667, 4.333333333333333, 2.6666666666666665], [5.0, 3.0, 3.6666666666666665], 3.888888888888889], 'variance': [[9.555555555555555, 11.555555555555557, 4.222222222222222], [10.666666666666666, 0.0, 14.888888888888891], 9.209876543209875], 'standard deviation': [[3.0912061651652345, 3.39934634239519, 2.0548046676563256], [3.265986323710904, 0.0, 3.8586123009300755], 3.0347778408328137], 'max': [[9, 9, 5], [9, 3, 9], 9], 'minimum': [[2, 1, 0], [1, 3, 0], 0], 'sum': [[14, 13, 8], [15, 9, 11], 35]}\n"
     ]
    }
   ],
   "source": [
    "print(calculate([9,1,5,3,3,3,2,9,0]))"
   ]
  },
  {
   "cell_type": "code",
   "execution_count": null,
   "metadata": {},
   "outputs": [],
   "source": []
  }
 ],
 "metadata": {
  "kernelspec": {
   "display_name": "Python 3",
   "language": "python",
   "name": "python3"
  },
  "language_info": {
   "codemirror_mode": {
    "name": "ipython",
    "version": 3
   },
   "file_extension": ".py",
   "mimetype": "text/x-python",
   "name": "python",
   "nbconvert_exporter": "python",
   "pygments_lexer": "ipython3",
   "version": "3.8.5"
  }
 },
 "nbformat": 4,
 "nbformat_minor": 4
}
